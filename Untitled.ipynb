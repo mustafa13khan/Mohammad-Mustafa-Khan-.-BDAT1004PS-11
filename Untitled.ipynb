{
 "cells": [
  {
   "cell_type": "code",
   "execution_count": null,
   "id": "79359f64",
   "metadata": {},
   "outputs": [],
   "source": [
    "Q1.\n",
    "5 = Integer \n",
    "5.0 = float/floating point\n",
    "5 > 1 = Boolean\n",
    "'5' = string\n",
    " 5 * 2 = integer\n",
    "'5' * 2 = string \n",
    "'5' + '2' = string\n",
    "5 / 2 = float/floating point\n",
    "5 % 2 = integer\n",
    "{5, 2, 1} = tuples\n",
    "5 == 3 = Boolean\n",
    "Pi (the number) = float/floating point"
   ]
  },
  {
   "cell_type": "code",
   "execution_count": null,
   "id": "19d1f787",
   "metadata": {},
   "outputs": [],
   "source": [
    "Q2\n",
    "using System;\n",
    "using System.Collections;\n",
    "\n",
    "namespace Demo\n",
    "{\n",
    "\n",
    "    class Program\n",
    "    {\n",
    "\n",
    "        static void Main(string[] args)\n",
    "        {\n",
    "\n",
    "            string str = \"Supercalifragilisticexpialidocious\";\n",
    "\n",
    "            Console.WriteLine(\"String: \" + str);\n",
    "            Console.WriteLine(\"String Length: \" + str.Length);\n",
    "            Console.ReadKey();\n",
    "        }\n",
    "    }\n",
    "}\n",
    "\n",
    "\n",
    "B.  \n",
    "string s1 = \"Supercalifragilisticexpialidocious\";\n",
    "string s2 = \"ice\";\n",
    "bool b = s1.Contains(s2);\n",
    "Console.WriteLine(\"'{0}' is in the string '{1}': {2}\",\n",
    "                s2, s1, b);\n",
    "if (b)\n",
    "{\n",
    "    int index = s1.IndexOf(s2);\n",
    "    if (index >= 0)\n",
    "        Console.WriteLine(\"'{0} The position at: {1}\",\n",
    "                      s2, index + 1);\n",
    "}"
   ]
  },
  {
   "cell_type": "code",
   "execution_count": null,
   "id": "8efb4cd7",
   "metadata": {},
   "outputs": [],
   "source": [
    "Q3.\n",
    "using System;\n",
    "public class AreaOfTriangle\n",
    "{\n",
    "    public static void Main()\n",
    "    {\n",
    "\n",
    "        Console.Write(\"Enter the length of side 1:\");\n",
    "        double side1 = Convert.ToDouble(Console.ReadLine());\n",
    "        Console.Write(\"Enter the length of side 2:\");\n",
    "        double side2 = Convert.ToDouble(Console.ReadLine());\n",
    "        Console.Write(\"Enter the length of side 3:\");\n",
    "        double side3 = Convert.ToDouble(Console.ReadLine());\n",
    "        double semiperimeter = (side1 + side2 + side3) / 2;\n",
    "        double Area = Math.Sqrt(semiperimeter * (semiperimeter - side1) * (semiperimeter - side2) * (semiperimeter - side3));\n",
    "        Console.Write(\"Area of a Triangle = \" + Area);\n",
    "        Console.ReadKey();\n",
    "    }\n",
    "}\n"
   ]
  },
  {
   "cell_type": "code",
   "execution_count": null,
   "id": "a357ce67",
   "metadata": {},
   "outputs": [],
   "source": [
    "Q4 \n",
    "using System;  \n",
    "public class Exercise10 \n",
    "{  \n",
    "    public static void Main() \n",
    " {\n",
    "\tint[] arr1 = new int[10];\n",
    "\tint[] arr2 = new int[10];\n",
    "\tint[] arr3 = new int[10];\n",
    "    int i,j=0,k=0,n;\n",
    "\t\n",
    "\t\n",
    "       Console.Write(\"\\n\\nSeparate odd and even integers in separate arrays:\\n\");\n",
    "       Console.Write(\"------------------------------------------------------\\n\");\t\n",
    "\n",
    "       Console.Write(\"Input the number of elements to be stored in the array :\");\n",
    "\t   n = Convert.ToInt32(Console.ReadLine()); \t   \n",
    "   \n",
    "       Console.Write(\"Input {0} elements in the array :\\n\",n);\n",
    "       for(i=0;i<n;i++)\n",
    "            {\n",
    "\t      Console.Write(\"element - {0} : \",i);\n",
    "    \t  arr1[i] = Convert.ToInt32(Console.ReadLine()); \t\t  \n",
    "\t    }\n",
    "\n",
    "    for(i=0;i<n;i++)\n",
    "    {\n",
    "\tif (arr1[i]%2 == 0)\n",
    "\t{\n",
    "\t   arr2[j] = arr1[i];\n",
    "\t   j++;\n",
    "\t}\n",
    "\telse\n",
    "\t{\n",
    "\t   arr3[k] = arr1[i];\n",
    "\t   k++;\n",
    "\t}\n",
    "    }\n",
    "\n",
    "    Console.Write(\"\\nThe Even elements are : \\n\");\n",
    "    for(i=0;i<j;i++)\n",
    "    {\n",
    "\tConsole.Write(\"{0} \",arr2[i]);\n",
    "    }\n",
    "\n",
    "    Console.Write(\"\\nThe Odd elements are :\\n\");\n",
    "    for(i=0;i<k;i++)\n",
    "    {\n",
    "\tConsole.Write(\"{0} \", arr3[i]);\n",
    "    }\n",
    "    Console.Write(\"\\n\\n\");\t\n",
    "   }\t\n",
    " }"
   ]
  },
  {
   "cell_type": "code",
   "execution_count": null,
   "id": "a0404aff",
   "metadata": {},
   "outputs": [],
   "source": [
    "Q5\n",
    "using System;\n",
    " \n",
    "class GFG\n",
    "{\n",
    " \n",
    "// function to find if given\n",
    "// point lies inside a given\n",
    "// rectangle or not.\n",
    "static bool FindPoint(int x1, int y1, int x2,\n",
    "                      int y2, int x, int y)\n",
    "{\n",
    "if (x > x1 && x < x2 &&\n",
    "    y > y1 && y < y2)\n",
    "    return true;\n",
    " \n",
    "return false;\n",
    "}\n",
    " \n",
    "// Driver code\n",
    "public static void Main()\n",
    "{\n",
    "     \n",
    "    // bottom-left and top-right\n",
    "    // corners of rectangle\n",
    "    int x1 = 0, y1 = 0,\n",
    "        x2 = 10, y2 = 8;\n",
    " \n",
    "    // given point\n",
    "    int x = 1, y = 5;\n",
    " \n",
    "    // function call\n",
    "    if (FindPoint(x1, y1, x2, y2, x, y))\n",
    "        Console.Write(\"Yes\");\n",
    "    else\n",
    "        Console.Write(\"No\");\n",
    "}\n",
    "}"
   ]
  },
  {
   "cell_type": "code",
   "execution_count": 1,
   "id": "141a427a",
   "metadata": {},
   "outputs": [
    {
     "name": "stdout",
     "output_type": "stream",
     "text": [
      "Enter string: happy\n",
      "appyhay\n"
     ]
    }
   ],
   "source": [
    "Q6\n",
    "string = input(\"Enter string: \")\n",
    "def pig(string):\n",
    "    string = str.lower(string);\n",
    "    vowel = \"aeiou\"\n",
    "    \n",
    "    if (string[0] in vowel):\n",
    "        string = string + \"way\"\n",
    "        \n",
    "    else:\n",
    "        dummy = string[0]\n",
    "        string = string[1:]\n",
    "        string = string + dummy + \"ay\"\n",
    "        print(string)\n",
    "pig(string)"
   ]
  },
  {
   "cell_type": "code",
   "execution_count": 4,
   "id": "a32c6e9b",
   "metadata": {},
   "outputs": [
    {
     "ename": "TypeError",
     "evalue": "unsupported operand type(s) for +: 'int' and 'str'",
     "output_type": "error",
     "traceback": [
      "\u001b[1;31m---------------------------------------------------------------------------\u001b[0m",
      "\u001b[1;31mTypeError\u001b[0m                                 Traceback (most recent call last)",
      "Input \u001b[1;32mIn [4]\u001b[0m, in \u001b[0;36m<cell line: 1>\u001b[1;34m()\u001b[0m\n\u001b[1;32m----> 1\u001b[0m \u001b[38;5;28mprint\u001b[39m(\u001b[38;5;241;43m6\u001b[39;49m\u001b[43m \u001b[49m\u001b[38;5;241;43m+\u001b[39;49m\u001b[43m \u001b[49m\u001b[38;5;124;43m'\u001b[39;49m\u001b[38;5;124;43ma\u001b[39;49m\u001b[38;5;124;43m'\u001b[39;49m)\n",
      "\u001b[1;31mTypeError\u001b[0m: unsupported operand type(s) for +: 'int' and 'str'"
     ]
    }
   ],
   "source": [
    "Q9.(A)\n",
    "print(6 + 'a')\n"
   ]
  },
  {
   "cell_type": "code",
   "execution_count": 5,
   "id": "4e852a3d",
   "metadata": {},
   "outputs": [
    {
     "ename": "IndexError",
     "evalue": "list index out of range",
     "output_type": "error",
     "traceback": [
      "\u001b[1;31m---------------------------------------------------------------------------\u001b[0m",
      "\u001b[1;31mIndexError\u001b[0m                                Traceback (most recent call last)",
      "Input \u001b[1;32mIn [5]\u001b[0m, in \u001b[0;36m<cell line: 2>\u001b[1;34m()\u001b[0m\n\u001b[0;32m      1\u001b[0m my_list \u001b[38;5;241m=\u001b[39m [\u001b[38;5;241m1\u001b[39m, \u001b[38;5;241m2\u001b[39m, \u001b[38;5;241m3\u001b[39m, \u001b[38;5;241m4\u001b[39m, \u001b[38;5;241m5\u001b[39m, \u001b[38;5;241m6\u001b[39m, \u001b[38;5;241m7\u001b[39m, \u001b[38;5;241m8\u001b[39m, \u001b[38;5;241m9\u001b[39m]\n\u001b[1;32m----> 2\u001b[0m \u001b[38;5;28mprint\u001b[39m(\u001b[43mmy_list\u001b[49m\u001b[43m[\u001b[49m\u001b[38;5;241;43m12\u001b[39;49m\u001b[43m]\u001b[49m)\n",
      "\u001b[1;31mIndexError\u001b[0m: list index out of range"
     ]
    }
   ],
   "source": [
    "Q9.(B)\n",
    "my_list = [1, 2, 3, 4, 5, 6, 7, 8, 9]\n",
    "print(my_list[12])\n"
   ]
  },
  {
   "cell_type": "code",
   "execution_count": 6,
   "id": "5776df85",
   "metadata": {},
   "outputs": [
    {
     "ename": "ValueError",
     "evalue": "math domain error",
     "output_type": "error",
     "traceback": [
      "\u001b[1;31m---------------------------------------------------------------------------\u001b[0m",
      "\u001b[1;31mValueError\u001b[0m                                Traceback (most recent call last)",
      "Input \u001b[1;32mIn [6]\u001b[0m, in \u001b[0;36m<cell line: 2>\u001b[1;34m()\u001b[0m\n\u001b[0;32m      1\u001b[0m \u001b[38;5;28;01mimport\u001b[39;00m \u001b[38;5;21;01mmath\u001b[39;00m\n\u001b[1;32m----> 2\u001b[0m \u001b[38;5;28mprint\u001b[39m(\u001b[43mmath\u001b[49m\u001b[38;5;241;43m.\u001b[39;49m\u001b[43msqrt\u001b[49m\u001b[43m(\u001b[49m\u001b[38;5;241;43m-\u001b[39;49m\u001b[38;5;241;43m1.0\u001b[39;49m\u001b[43m)\u001b[49m)\n",
      "\u001b[1;31mValueError\u001b[0m: math domain error"
     ]
    }
   ],
   "source": [
    "Q9.(C)\n",
    "import math\n",
    "print(math.sqrt(-1.0))"
   ]
  },
  {
   "cell_type": "code",
   "execution_count": 7,
   "id": "30e79ff8",
   "metadata": {},
   "outputs": [
    {
     "ename": "NameError",
     "evalue": "name 'x' is not defined",
     "output_type": "error",
     "traceback": [
      "\u001b[1;31m---------------------------------------------------------------------------\u001b[0m",
      "\u001b[1;31mNameError\u001b[0m                                 Traceback (most recent call last)",
      "Input \u001b[1;32mIn [7]\u001b[0m, in \u001b[0;36m<cell line: 1>\u001b[1;34m()\u001b[0m\n\u001b[1;32m----> 1\u001b[0m \u001b[38;5;28mprint\u001b[39m(\u001b[43mx\u001b[49m)\n",
      "\u001b[1;31mNameError\u001b[0m: name 'x' is not defined"
     ]
    }
   ],
   "source": [
    "Q9.(D)\n",
    "print(x)\n"
   ]
  },
  {
   "cell_type": "code",
   "execution_count": 8,
   "id": "cbdd4789",
   "metadata": {},
   "outputs": [
    {
     "ename": "FileNotFoundError",
     "evalue": "[Errno 2] No such file or directory: 'test.txt'",
     "output_type": "error",
     "traceback": [
      "\u001b[1;31m---------------------------------------------------------------------------\u001b[0m",
      "\u001b[1;31mFileNotFoundError\u001b[0m                         Traceback (most recent call last)",
      "Input \u001b[1;32mIn [8]\u001b[0m, in \u001b[0;36m<cell line: 1>\u001b[1;34m()\u001b[0m\n\u001b[1;32m----> 1\u001b[0m f \u001b[38;5;241m=\u001b[39m \u001b[38;5;28;43mopen\u001b[39;49m\u001b[43m(\u001b[49m\u001b[38;5;124;43m\"\u001b[39;49m\u001b[38;5;124;43mtest.txt\u001b[39;49m\u001b[38;5;124;43m\"\u001b[39;49m\u001b[43m)\u001b[49m\n",
      "\u001b[1;31mFileNotFoundError\u001b[0m: [Errno 2] No such file or directory: 'test.txt'"
     ]
    }
   ],
   "source": [
    "Q9.(E)\n",
    "f = open(\"test.txt\")\n"
   ]
  },
  {
   "cell_type": "code",
   "execution_count": null,
   "id": "29fb0a0f",
   "metadata": {},
   "outputs": [],
   "source": [
    "Q10\n",
    "def frequencies(string):\n",
    "  all_freq = {}\n",
    "  for i in string:\n",
    "    if i in all_freq:\n",
    "        all_freq[i] += 1\n",
    "    else:\n",
    "        all_freq[i] = 1\n",
    "  \n",
    "  # printing result \n",
    "  print (\"Count of all characters is :\\n \"\n",
    "                                        +  str(all_freq))\n",
    "\n",
    "\n",
    "frequencies(\"apple\")"
   ]
  }
 ],
 "metadata": {
  "kernelspec": {
   "display_name": "Python 3 (ipykernel)",
   "language": "python",
   "name": "python3"
  },
  "language_info": {
   "codemirror_mode": {
    "name": "ipython",
    "version": 3
   },
   "file_extension": ".py",
   "mimetype": "text/x-python",
   "name": "python",
   "nbconvert_exporter": "python",
   "pygments_lexer": "ipython3",
   "version": "3.9.12"
  }
 },
 "nbformat": 4,
 "nbformat_minor": 5
}
